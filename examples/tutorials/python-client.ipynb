{
 "cells": [
  {
   "cell_type": "markdown",
   "id": "6d3806ac-38f3-4999-bbed-953037bd0fd9",
   "metadata": {},
   "source": [
    "# MemGPT Python Client \n",
    "Welcome to the MemGPT tutorial! In this tutorial, we'll go through how to create a basic user-client for MemGPT and create a custom agent with long term memory. "
   ]
  },
  {
   "cell_type": "markdown",
   "id": "7c0b6d6b-dbe6-412b-b129-6d7eb7d626a3",
   "metadata": {},
   "source": [
    "## Part 0: Install MemGPT "
   ]
  },
  {
   "cell_type": "code",
   "execution_count": null,
   "id": "481d0976-d26b-46d2-ba74-8f2bb5556387",
   "metadata": {},
   "outputs": [],
   "source": [
    "!pip install git+https://github.com/cpacker/MemGPT.git@tutorials"
   ]
  },
  {
   "cell_type": "markdown",
   "id": "a0484348-f7b2-48e3-9a2f-7d6495ef76e3",
   "metadata": {},
   "source": [
    "## Part 1: Creating a MemGPT client \n",
    "\n",
    "The MemGPT client connects to a running MemGPT service, specified by `base_url`. The client corresponds to a *single-user* (you), so requires an authentication token to let the service know who you are. \n",
    "\n",
    "Hint: If you don't have a running server, see the [documentation](https://memgpt.readme.io/docs/running-a-memgpt-server) for instructions on how to create one.  "
   ]
  },
  {
   "cell_type": "code",
   "execution_count": null,
   "id": "53ae2e1b-ad22-43c2-b3d8-92d591be8840",
   "metadata": {},
   "outputs": [],
   "source": [
    "from memgpt import create_client\n",
    "\n",
    "base_url = \"http://35.238.125.250:8083\"\n",
    "\n",
    "# TODO: replace with your token \n",
    "my_token = \"sk-f0ce0873c2443172c2a53c783e4f511fbca5ca4bca47d464\" \n",
    "\n",
    "client = create_client(base_url=base_url, token=my_token) "
   ]
  },
  {
   "cell_type": "markdown",
   "id": "66e47b34-5feb-4660-85f0-14b5ee7f62b9",
   "metadata": {},
   "source": [
    "## Part 2: Create an agent \n",
    "We'll first start with creating a basic MemGPT agent. "
   ]
  },
  {
   "cell_type": "code",
   "execution_count": null,
   "id": "24745606-b0fb-4157-a5cd-82fd0c26711f",
   "metadata": {},
   "outputs": [],
   "source": [
    "basic_agent = client.create_agent(\n",
    "    name=\"basic_agent\", \n",
    ")\n",
    "print(f\"Created agent: {basic_agent.name}\")"
   ]
  },
  {
   "cell_type": "markdown",
   "id": "fcfb0d7b-b260-4bc0-8db2-c65f40e4afd5",
   "metadata": {},
   "source": [
    "We can now send messages from the user to the agent by specifying the `agent_id`: "
   ]
  },
  {
   "cell_type": "code",
   "execution_count": null,
   "id": "a37bc9aa-4efb-4b4d-a6ce-f02505cb3240",
   "metadata": {},
   "outputs": [],
   "source": [
    "from pprint import pprint \n",
    "\n",
    "response = client.user_message(agent_id=basic_agent.id, message=\"hello\") \n",
    "display(response.messages)"
   ]
  },
  {
   "cell_type": "markdown",
   "id": "99ae20ec-e92e-4480-a652-b4aea28a6199",
   "metadata": {},
   "source": [
    "### Adding Personalization\n",
    "We can now create a more customized agent, but specifying a custom `human` and `persona` field. \n",
    "* The *human* specifies the personalization information about the user interacting with the agent \n",
    "* The *persona* specifies the behavior and personality of the event\n",
    "\n",
    "What makes MemGPT unique is that the starting *persona* and *human* can change over time as the agent gains new information, enabling it to have evolving memory. We'll see an example of this later in the tutorial."
   ]
  },
  {
   "cell_type": "code",
   "execution_count": null,
   "id": "c0876410-4d70-490d-a798-39938b5ce941",
   "metadata": {},
   "outputs": [],
   "source": [
    "# TODO: feel free to change the human and person to what you'd like \n",
    "persona = \\\n",
    "\"\"\"\n",
    "You are a friendly and helpful agent\n",
    "\"\"\"\n",
    "\n",
    "human = \\\n",
    "\"\"\"\n",
    "I am an accenture consultant with many specializations. My name is Sarah.\n",
    "\"\"\"\n",
    "\n",
    "custom_agent = client.create_agent(\n",
    "    name=\"custom_agent2\", \n",
    "    human=human, \n",
    "    persona=persona\n",
    ")"
   ]
  },
  {
   "cell_type": "code",
   "execution_count": null,
   "id": "fddbefe5-3b94-4a08-aa50-d80fb581c747",
   "metadata": {},
   "outputs": [],
   "source": [
    "response = client.user_message(agent_id=custom_agent.id, message=\"what do I work as?\") \n",
    "pprint(response.messages)"
   ]
  },
  {
   "cell_type": "markdown",
   "id": "30497119-e208-4a4e-b482-e7cfff346263",
   "metadata": {},
   "source": [
    "### Evolving memory \n",
    "MemGPT agents have long term memory, and can evolve what they store in their memory over time. In the example below, we make a correction to the previously provided information. See how the agent processes this new information. "
   ]
  },
  {
   "cell_type": "code",
   "execution_count": null,
   "id": "679fa708-20ee-4e75-9222-b476f126bc6f",
   "metadata": {},
   "outputs": [],
   "source": [
    "response = client.user_message(agent_id=custom_agent.id, message=\"Actually, my name is Charles\") \n",
    "pprint(response.messages)"
   ]
  },
  {
   "cell_type": "markdown",
   "id": "878d2f49-a5a6-4483-9f69-7436bcf00cfb",
   "metadata": {},
   "source": [
    "## Part 3: Adding Tools "
   ]
  },
  {
   "cell_type": "code",
   "execution_count": null,
   "id": "c307a6f7-276b-49f5-8d3d-48aaaea221a7",
   "metadata": {},
   "outputs": [],
   "source": [
    "tools = client.list_tools().tools\n",
    "for tool in tools: \n",
    "    print(f\"Tool: {tool.name} - {tool.json_schema['description']}\")"
   ]
  },
  {
   "cell_type": "code",
   "execution_count": null,
   "id": "6305c87d-5c32-45f4-8ff3-755580edc99d",
   "metadata": {},
   "outputs": [],
   "source": []
  }
 ],
 "metadata": {
  "kernelspec": {
   "display_name": "memgpt",
   "language": "python",
   "name": "memgpt"
  },
  "language_info": {
   "codemirror_mode": {
    "name": "ipython",
    "version": 3
   },
   "file_extension": ".py",
   "mimetype": "text/x-python",
   "name": "python",
   "nbconvert_exporter": "python",
   "pygments_lexer": "ipython3",
   "version": "3.12.2"
  }
 },
 "nbformat": 4,
 "nbformat_minor": 5
}
