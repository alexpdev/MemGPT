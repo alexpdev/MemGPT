{
 "cells": [
  {
   "cell_type": "code",
   "execution_count": 11,
   "id": "fb13c7bc-fbb4-4ccd-897c-08995db258e8",
   "metadata": {},
   "outputs": [],
   "source": [
    "from memgpt import Admin \n",
    "\n",
    "#base_url = \"http://35.238.125.250:8283\"\n",
    "\n",
    "#base_url = \"http://0.0.0.0:8083\"\n",
    "base_url = \"http://35.238.125.250:8083\"\n",
    "token=\"memgptadmin\" \n",
    "\n",
    "admin_client = Admin(base_url=base_url, token=\"memgptadmin\")"
   ]
  },
  {
   "cell_type": "code",
   "execution_count": 13,
   "id": "984b8249-a3f7-40d1-9691-4d128f9a90ff",
   "metadata": {},
   "outputs": [
    {
     "name": "stdout",
     "output_type": "stream",
     "text": [
      "{'user_id': '9908eace-bc4d-4bdd-bcd8-b417b5e834c4', 'api_key': 'sk-5be6473b2e0382cd7fe2bd9b44a6fc82385739250fd1f576'}\n"
     ]
    }
   ],
   "source": [
    "user = admin_client.create_user()"
   ]
  },
  {
   "cell_type": "code",
   "execution_count": 5,
   "id": "be31ab40-0deb-42c4-8213-08597d1cf34b",
   "metadata": {},
   "outputs": [],
   "source": [
    "tool = admin_client.create_tool(name=\"google_search_tool_simple\", file_path=\"/Users/sarahwooders/repos/memgpt-main/MemGPT/google_search_tool.py\")"
   ]
  },
  {
   "cell_type": "code",
   "execution_count": 10,
   "id": "93b9d980-f050-41d3-94c9-59461f77fa6c",
   "metadata": {},
   "outputs": [],
   "source": [
    "tool = admin_client.create_tool(name=\"research\", file_path=\"/Users/sarahwooders/repos/memgpt-main/MemGPT/best_consultants.py\")"
   ]
  },
  {
   "cell_type": "code",
   "execution_count": null,
   "id": "5d8ac055-1d9a-485c-b3ae-407c64bc13cd",
   "metadata": {},
   "outputs": [],
   "source": []
  }
 ],
 "metadata": {
  "kernelspec": {
   "display_name": "memgpt",
   "language": "python",
   "name": "memgpt"
  },
  "language_info": {
   "codemirror_mode": {
    "name": "ipython",
    "version": 3
   },
   "file_extension": ".py",
   "mimetype": "text/x-python",
   "name": "python",
   "nbconvert_exporter": "python",
   "pygments_lexer": "ipython3",
   "version": "3.12.2"
  }
 },
 "nbformat": 4,
 "nbformat_minor": 5
}
