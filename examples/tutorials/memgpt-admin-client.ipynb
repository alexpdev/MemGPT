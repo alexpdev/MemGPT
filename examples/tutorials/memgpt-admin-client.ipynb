{
 "cells": [
  {
   "cell_type": "code",
   "execution_count": 18,
   "id": "fb13c7bc-fbb4-4ccd-897c-08995db258e8",
   "metadata": {},
   "outputs": [],
   "source": [
    "from memgpt import Admin \n",
    "\n",
    "#base_url = \"http://35.238.125.250:8283\"\n",
    "\n",
    "#base_url = \"http://0.0.0.0:8083\"\n",
    "base_url = \"http://35.238.125.250:8283\"\n",
    "token=\"memgptadmin\" \n",
    "\n",
    "admin_client = Admin(base_url=base_url, token=\"memgptadmin\")"
   ]
  },
  {
   "cell_type": "code",
   "execution_count": 19,
   "id": "984b8249-a3f7-40d1-9691-4d128f9a90ff",
   "metadata": {},
   "outputs": [
    {
     "name": "stdout",
     "output_type": "stream",
     "text": [
      "{'user_id': 'ad821ffe-f466-4074-9133-f6488380c878', 'api_key': 'sk-2d0e1be8e8c3e7080410056568384509a5ab626c6d879b4d'}\n"
     ]
    }
   ],
   "source": [
    "user = admin_client.create_user()"
   ]
  },
  {
   "cell_type": "code",
   "execution_count": 6,
   "id": "be31ab40-0deb-42c4-8213-08597d1cf34b",
   "metadata": {},
   "outputs": [
    {
     "ename": "SyntaxError",
     "evalue": "invalid syntax (2230653260.py, line 1)",
     "output_type": "error",
     "traceback": [
      "\u001b[0;36m  Cell \u001b[0;32mIn[6], line 1\u001b[0;36m\u001b[0m\n\u001b[0;31m    api_key =\u001b[0m\n\u001b[0m              ^\u001b[0m\n\u001b[0;31mSyntaxError\u001b[0m\u001b[0;31m:\u001b[0m invalid syntax\n"
     ]
    }
   ],
   "source": []
  },
  {
   "cell_type": "code",
   "execution_count": null,
   "id": "93b9d980-f050-41d3-94c9-59461f77fa6c",
   "metadata": {},
   "outputs": [],
   "source": []
  }
 ],
 "metadata": {
  "kernelspec": {
   "display_name": "memgpt",
   "language": "python",
   "name": "memgpt"
  },
  "language_info": {
   "codemirror_mode": {
    "name": "ipython",
    "version": 3
   },
   "file_extension": ".py",
   "mimetype": "text/x-python",
   "name": "python",
   "nbconvert_exporter": "python",
   "pygments_lexer": "ipython3",
   "version": "3.12.2"
  }
 },
 "nbformat": 4,
 "nbformat_minor": 5
}
