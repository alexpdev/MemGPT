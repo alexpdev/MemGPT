{
 "cells": [
  {
   "cell_type": "code",
   "execution_count": 29,
   "id": "fb13c7bc-fbb4-4ccd-897c-08995db258e8",
   "metadata": {},
   "outputs": [],
   "source": [
    "from memgpt import Admin \n",
    "\n",
    "#base_url = \"http://35.238.125.250:8283\"\n",
    "\n",
    "#base_url = \"http://0.0.0.0:8083\"\n",
    "base_url = \"http://35.238.125.250:8083\"\n",
    "token=\"memgptadmin\" \n",
    "\n",
    "admin_client = Admin(base_url=base_url, token=\"memgptadmin\")"
   ]
  },
  {
   "cell_type": "code",
   "execution_count": 30,
   "id": "984b8249-a3f7-40d1-9691-4d128f9a90ff",
   "metadata": {},
   "outputs": [
    {
     "name": "stdout",
     "output_type": "stream",
     "text": [
      "{'user_id': '27464cd5-539f-4113-a45f-af1afb4c499d', 'api_key': 'sk-f0ce0873c2443172c2a53c783e4f511fbca5ca4bca47d464'}\n"
     ]
    }
   ],
   "source": [
    "user = admin_client.create_user()"
   ]
  },
  {
   "cell_type": "code",
   "execution_count": null,
   "id": "be31ab40-0deb-42c4-8213-08597d1cf34b",
   "metadata": {},
   "outputs": [],
   "source": [
    "tool = admin_client.create_tool(name=\"google_search_tool_simple\", file_path=\"/Users/sarahwooders/repos/memgpt-main/MemGPT/google_search_tool.py\")"
   ]
  },
  {
   "cell_type": "code",
   "execution_count": null,
   "id": "93b9d980-f050-41d3-94c9-59461f77fa6c",
   "metadata": {},
   "outputs": [],
   "source": []
  }
 ],
 "metadata": {
  "kernelspec": {
   "display_name": "memgpt",
   "language": "python",
   "name": "memgpt"
  },
  "language_info": {
   "codemirror_mode": {
    "name": "ipython",
    "version": 3
   },
   "file_extension": ".py",
   "mimetype": "text/x-python",
   "name": "python",
   "nbconvert_exporter": "python",
   "pygments_lexer": "ipython3",
   "version": "3.12.2"
  }
 },
 "nbformat": 4,
 "nbformat_minor": 5
}
